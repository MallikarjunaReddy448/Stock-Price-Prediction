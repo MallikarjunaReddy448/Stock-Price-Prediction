{
 "cells": [
  {
   "cell_type": "code",
   "execution_count": 1,
   "id": "6b536db7",
   "metadata": {},
   "outputs": [],
   "source": [
    "import pandas as pd\n",
    "import numpy as np\n",
    "import matplotlib.pyplot as plt\n",
    "import seaborn as sns\n",
    "from sklearn import preprocessing\n",
    "from sklearn import metrics\n",
    "from sklearn.model_selection import train_test_split\n",
    "from sklearn.linear_model import LinearRegression\n",
    "import matplotlib.pyplot as plt"
   ]
  },
  {
   "cell_type": "code",
   "execution_count": 2,
   "id": "550bb606",
   "metadata": {},
   "outputs": [],
   "source": [
    "tesla=pd.read_csv(\"TSLA.csv\")"
   ]
  },
  {
   "cell_type": "code",
   "execution_count": 3,
   "id": "bb49b111",
   "metadata": {},
   "outputs": [
    {
     "data": {
      "text/html": [
       "<div>\n",
       "<style scoped>\n",
       "    .dataframe tbody tr th:only-of-type {\n",
       "        vertical-align: middle;\n",
       "    }\n",
       "\n",
       "    .dataframe tbody tr th {\n",
       "        vertical-align: top;\n",
       "    }\n",
       "\n",
       "    .dataframe thead th {\n",
       "        text-align: right;\n",
       "    }\n",
       "</style>\n",
       "<table border=\"1\" class=\"dataframe\">\n",
       "  <thead>\n",
       "    <tr style=\"text-align: right;\">\n",
       "      <th></th>\n",
       "      <th>Date</th>\n",
       "      <th>Open</th>\n",
       "      <th>High</th>\n",
       "      <th>Low</th>\n",
       "      <th>Close</th>\n",
       "      <th>Adj Close</th>\n",
       "      <th>Volume</th>\n",
       "    </tr>\n",
       "  </thead>\n",
       "  <tbody>\n",
       "    <tr>\n",
       "      <th>0</th>\n",
       "      <td>2010-06-30</td>\n",
       "      <td>5.158</td>\n",
       "      <td>6.084</td>\n",
       "      <td>4.660</td>\n",
       "      <td>4.766</td>\n",
       "      <td>4.766</td>\n",
       "      <td>85935500</td>\n",
       "    </tr>\n",
       "    <tr>\n",
       "      <th>1</th>\n",
       "      <td>2010-07-01</td>\n",
       "      <td>5.000</td>\n",
       "      <td>5.184</td>\n",
       "      <td>4.054</td>\n",
       "      <td>4.392</td>\n",
       "      <td>4.392</td>\n",
       "      <td>41094000</td>\n",
       "    </tr>\n",
       "    <tr>\n",
       "      <th>2</th>\n",
       "      <td>2010-07-02</td>\n",
       "      <td>4.600</td>\n",
       "      <td>4.620</td>\n",
       "      <td>3.742</td>\n",
       "      <td>3.840</td>\n",
       "      <td>3.840</td>\n",
       "      <td>25699000</td>\n",
       "    </tr>\n",
       "    <tr>\n",
       "      <th>3</th>\n",
       "      <td>2010-07-06</td>\n",
       "      <td>4.000</td>\n",
       "      <td>4.000</td>\n",
       "      <td>3.166</td>\n",
       "      <td>3.222</td>\n",
       "      <td>3.222</td>\n",
       "      <td>34334500</td>\n",
       "    </tr>\n",
       "    <tr>\n",
       "      <th>4</th>\n",
       "      <td>2010-07-07</td>\n",
       "      <td>3.280</td>\n",
       "      <td>3.326</td>\n",
       "      <td>2.996</td>\n",
       "      <td>3.160</td>\n",
       "      <td>3.160</td>\n",
       "      <td>34608500</td>\n",
       "    </tr>\n",
       "  </tbody>\n",
       "</table>\n",
       "</div>"
      ],
      "text/plain": [
       "         Date   Open   High    Low  Close  Adj Close    Volume\n",
       "0  2010-06-30  5.158  6.084  4.660  4.766      4.766  85935500\n",
       "1  2010-07-01  5.000  5.184  4.054  4.392      4.392  41094000\n",
       "2  2010-07-02  4.600  4.620  3.742  3.840      3.840  25699000\n",
       "3  2010-07-06  4.000  4.000  3.166  3.222      3.222  34334500\n",
       "4  2010-07-07  3.280  3.326  2.996  3.160      3.160  34608500"
      ]
     },
     "execution_count": 3,
     "metadata": {},
     "output_type": "execute_result"
    }
   ],
   "source": [
    "tesla.head()"
   ]
  },
  {
   "cell_type": "code",
   "execution_count": 4,
   "id": "c31d4a24",
   "metadata": {},
   "outputs": [
    {
     "data": {
      "text/html": [
       "<div>\n",
       "<style scoped>\n",
       "    .dataframe tbody tr th:only-of-type {\n",
       "        vertical-align: middle;\n",
       "    }\n",
       "\n",
       "    .dataframe tbody tr th {\n",
       "        vertical-align: top;\n",
       "    }\n",
       "\n",
       "    .dataframe thead th {\n",
       "        text-align: right;\n",
       "    }\n",
       "</style>\n",
       "<table border=\"1\" class=\"dataframe\">\n",
       "  <thead>\n",
       "    <tr style=\"text-align: right;\">\n",
       "      <th></th>\n",
       "      <th>Open</th>\n",
       "      <th>High</th>\n",
       "      <th>Low</th>\n",
       "      <th>Close</th>\n",
       "      <th>Adj Close</th>\n",
       "      <th>Volume</th>\n",
       "    </tr>\n",
       "  </thead>\n",
       "  <tbody>\n",
       "    <tr>\n",
       "      <th>count</th>\n",
       "      <td>2579.000000</td>\n",
       "      <td>2579.000000</td>\n",
       "      <td>2579.000000</td>\n",
       "      <td>2579.000000</td>\n",
       "      <td>2579.000000</td>\n",
       "      <td>2.579000e+03</td>\n",
       "    </tr>\n",
       "    <tr>\n",
       "      <th>mean</th>\n",
       "      <td>49.206686</td>\n",
       "      <td>50.301806</td>\n",
       "      <td>48.073117</td>\n",
       "      <td>49.253279</td>\n",
       "      <td>49.253279</td>\n",
       "      <td>3.078217e+07</td>\n",
       "    </tr>\n",
       "    <tr>\n",
       "      <th>std</th>\n",
       "      <td>57.934102</td>\n",
       "      <td>59.888383</td>\n",
       "      <td>55.852349</td>\n",
       "      <td>58.119783</td>\n",
       "      <td>58.119783</td>\n",
       "      <td>2.855717e+07</td>\n",
       "    </tr>\n",
       "    <tr>\n",
       "      <th>min</th>\n",
       "      <td>3.228000</td>\n",
       "      <td>3.326000</td>\n",
       "      <td>2.996000</td>\n",
       "      <td>3.160000</td>\n",
       "      <td>3.160000</td>\n",
       "      <td>5.925000e+05</td>\n",
       "    </tr>\n",
       "    <tr>\n",
       "      <th>25%</th>\n",
       "      <td>7.159000</td>\n",
       "      <td>7.268000</td>\n",
       "      <td>6.989000</td>\n",
       "      <td>7.153000</td>\n",
       "      <td>7.153000</td>\n",
       "      <td>1.047400e+07</td>\n",
       "    </tr>\n",
       "    <tr>\n",
       "      <th>50%</th>\n",
       "      <td>44.001999</td>\n",
       "      <td>44.660000</td>\n",
       "      <td>43.301998</td>\n",
       "      <td>43.924000</td>\n",
       "      <td>43.924000</td>\n",
       "      <td>2.413100e+07</td>\n",
       "    </tr>\n",
       "    <tr>\n",
       "      <th>75%</th>\n",
       "      <td>59.339000</td>\n",
       "      <td>60.171000</td>\n",
       "      <td>57.841000</td>\n",
       "      <td>59.020000</td>\n",
       "      <td>59.020000</td>\n",
       "      <td>3.979150e+07</td>\n",
       "    </tr>\n",
       "    <tr>\n",
       "      <th>max</th>\n",
       "      <td>502.140015</td>\n",
       "      <td>502.489990</td>\n",
       "      <td>470.510010</td>\n",
       "      <td>498.320007</td>\n",
       "      <td>498.320007</td>\n",
       "      <td>3.046940e+08</td>\n",
       "    </tr>\n",
       "  </tbody>\n",
       "</table>\n",
       "</div>"
      ],
      "text/plain": [
       "              Open         High          Low        Close    Adj Close  \\\n",
       "count  2579.000000  2579.000000  2579.000000  2579.000000  2579.000000   \n",
       "mean     49.206686    50.301806    48.073117    49.253279    49.253279   \n",
       "std      57.934102    59.888383    55.852349    58.119783    58.119783   \n",
       "min       3.228000     3.326000     2.996000     3.160000     3.160000   \n",
       "25%       7.159000     7.268000     6.989000     7.153000     7.153000   \n",
       "50%      44.001999    44.660000    43.301998    43.924000    43.924000   \n",
       "75%      59.339000    60.171000    57.841000    59.020000    59.020000   \n",
       "max     502.140015   502.489990   470.510010   498.320007   498.320007   \n",
       "\n",
       "             Volume  \n",
       "count  2.579000e+03  \n",
       "mean   3.078217e+07  \n",
       "std    2.855717e+07  \n",
       "min    5.925000e+05  \n",
       "25%    1.047400e+07  \n",
       "50%    2.413100e+07  \n",
       "75%    3.979150e+07  \n",
       "max    3.046940e+08  "
      ]
     },
     "execution_count": 4,
     "metadata": {},
     "output_type": "execute_result"
    }
   ],
   "source": [
    "tesla.describe()"
   ]
  },
  {
   "cell_type": "code",
   "execution_count": 5,
   "id": "c5c9137f",
   "metadata": {},
   "outputs": [
    {
     "data": {
      "text/plain": [
       "Date         0\n",
       "Open         0\n",
       "High         0\n",
       "Low          0\n",
       "Close        0\n",
       "Adj Close    0\n",
       "Volume       0\n",
       "dtype: int64"
      ]
     },
     "execution_count": 5,
     "metadata": {},
     "output_type": "execute_result"
    }
   ],
   "source": [
    "tesla.isna().sum()"
   ]
  },
  {
   "cell_type": "code",
   "execution_count": 6,
   "id": "551e4ac8",
   "metadata": {},
   "outputs": [
    {
     "data": {
      "text/plain": [
       "0"
      ]
     },
     "execution_count": 6,
     "metadata": {},
     "output_type": "execute_result"
    }
   ],
   "source": [
    "tesla.duplicated().sum()"
   ]
  },
  {
   "cell_type": "code",
   "execution_count": 7,
   "id": "98680b67",
   "metadata": {},
   "outputs": [
    {
     "data": {
      "text/html": [
       "<div>\n",
       "<style scoped>\n",
       "    .dataframe tbody tr th:only-of-type {\n",
       "        vertical-align: middle;\n",
       "    }\n",
       "\n",
       "    .dataframe tbody tr th {\n",
       "        vertical-align: top;\n",
       "    }\n",
       "\n",
       "    .dataframe thead th {\n",
       "        text-align: right;\n",
       "    }\n",
       "</style>\n",
       "<table border=\"1\" class=\"dataframe\">\n",
       "  <thead>\n",
       "    <tr style=\"text-align: right;\">\n",
       "      <th></th>\n",
       "      <th>Date</th>\n",
       "      <th>Open</th>\n",
       "      <th>High</th>\n",
       "      <th>Low</th>\n",
       "      <th>Close</th>\n",
       "      <th>Adj Close</th>\n",
       "      <th>Volume</th>\n",
       "    </tr>\n",
       "  </thead>\n",
       "  <tbody>\n",
       "    <tr>\n",
       "      <th>0</th>\n",
       "      <td>2010-06-30</td>\n",
       "      <td>5.158000</td>\n",
       "      <td>6.084000</td>\n",
       "      <td>4.660000</td>\n",
       "      <td>4.766000</td>\n",
       "      <td>4.766000</td>\n",
       "      <td>85935500</td>\n",
       "    </tr>\n",
       "    <tr>\n",
       "      <th>1</th>\n",
       "      <td>2010-07-01</td>\n",
       "      <td>5.000000</td>\n",
       "      <td>5.184000</td>\n",
       "      <td>4.054000</td>\n",
       "      <td>4.392000</td>\n",
       "      <td>4.392000</td>\n",
       "      <td>41094000</td>\n",
       "    </tr>\n",
       "    <tr>\n",
       "      <th>2</th>\n",
       "      <td>2010-07-02</td>\n",
       "      <td>4.600000</td>\n",
       "      <td>4.620000</td>\n",
       "      <td>3.742000</td>\n",
       "      <td>3.840000</td>\n",
       "      <td>3.840000</td>\n",
       "      <td>25699000</td>\n",
       "    </tr>\n",
       "    <tr>\n",
       "      <th>3</th>\n",
       "      <td>2010-07-06</td>\n",
       "      <td>4.000000</td>\n",
       "      <td>4.000000</td>\n",
       "      <td>3.166000</td>\n",
       "      <td>3.222000</td>\n",
       "      <td>3.222000</td>\n",
       "      <td>34334500</td>\n",
       "    </tr>\n",
       "    <tr>\n",
       "      <th>4</th>\n",
       "      <td>2010-07-07</td>\n",
       "      <td>3.280000</td>\n",
       "      <td>3.326000</td>\n",
       "      <td>2.996000</td>\n",
       "      <td>3.160000</td>\n",
       "      <td>3.160000</td>\n",
       "      <td>34608500</td>\n",
       "    </tr>\n",
       "    <tr>\n",
       "      <th>...</th>\n",
       "      <td>...</td>\n",
       "      <td>...</td>\n",
       "      <td>...</td>\n",
       "      <td>...</td>\n",
       "      <td>...</td>\n",
       "      <td>...</td>\n",
       "      <td>...</td>\n",
       "    </tr>\n",
       "    <tr>\n",
       "      <th>2574</th>\n",
       "      <td>2020-09-21</td>\n",
       "      <td>453.130005</td>\n",
       "      <td>455.679993</td>\n",
       "      <td>407.070007</td>\n",
       "      <td>449.390015</td>\n",
       "      <td>449.390015</td>\n",
       "      <td>109476800</td>\n",
       "    </tr>\n",
       "    <tr>\n",
       "      <th>2575</th>\n",
       "      <td>2020-09-22</td>\n",
       "      <td>429.600006</td>\n",
       "      <td>437.760010</td>\n",
       "      <td>417.600006</td>\n",
       "      <td>424.230011</td>\n",
       "      <td>424.230011</td>\n",
       "      <td>79580800</td>\n",
       "    </tr>\n",
       "    <tr>\n",
       "      <th>2576</th>\n",
       "      <td>2020-09-23</td>\n",
       "      <td>405.160004</td>\n",
       "      <td>412.149994</td>\n",
       "      <td>375.880005</td>\n",
       "      <td>380.359985</td>\n",
       "      <td>380.359985</td>\n",
       "      <td>95074200</td>\n",
       "    </tr>\n",
       "    <tr>\n",
       "      <th>2577</th>\n",
       "      <td>2020-09-24</td>\n",
       "      <td>363.799988</td>\n",
       "      <td>399.500000</td>\n",
       "      <td>351.299988</td>\n",
       "      <td>387.790009</td>\n",
       "      <td>387.790009</td>\n",
       "      <td>96561100</td>\n",
       "    </tr>\n",
       "    <tr>\n",
       "      <th>2578</th>\n",
       "      <td>2020-09-25</td>\n",
       "      <td>393.470001</td>\n",
       "      <td>408.730011</td>\n",
       "      <td>391.299988</td>\n",
       "      <td>407.339996</td>\n",
       "      <td>407.339996</td>\n",
       "      <td>67068400</td>\n",
       "    </tr>\n",
       "  </tbody>\n",
       "</table>\n",
       "<p>2579 rows × 7 columns</p>\n",
       "</div>"
      ],
      "text/plain": [
       "            Date        Open        High         Low       Close   Adj Close  \\\n",
       "0     2010-06-30    5.158000    6.084000    4.660000    4.766000    4.766000   \n",
       "1     2010-07-01    5.000000    5.184000    4.054000    4.392000    4.392000   \n",
       "2     2010-07-02    4.600000    4.620000    3.742000    3.840000    3.840000   \n",
       "3     2010-07-06    4.000000    4.000000    3.166000    3.222000    3.222000   \n",
       "4     2010-07-07    3.280000    3.326000    2.996000    3.160000    3.160000   \n",
       "...          ...         ...         ...         ...         ...         ...   \n",
       "2574  2020-09-21  453.130005  455.679993  407.070007  449.390015  449.390015   \n",
       "2575  2020-09-22  429.600006  437.760010  417.600006  424.230011  424.230011   \n",
       "2576  2020-09-23  405.160004  412.149994  375.880005  380.359985  380.359985   \n",
       "2577  2020-09-24  363.799988  399.500000  351.299988  387.790009  387.790009   \n",
       "2578  2020-09-25  393.470001  408.730011  391.299988  407.339996  407.339996   \n",
       "\n",
       "         Volume  \n",
       "0      85935500  \n",
       "1      41094000  \n",
       "2      25699000  \n",
       "3      34334500  \n",
       "4      34608500  \n",
       "...         ...  \n",
       "2574  109476800  \n",
       "2575   79580800  \n",
       "2576   95074200  \n",
       "2577   96561100  \n",
       "2578   67068400  \n",
       "\n",
       "[2579 rows x 7 columns]"
      ]
     },
     "execution_count": 7,
     "metadata": {},
     "output_type": "execute_result"
    }
   ],
   "source": [
    "#sorting the data according to date to get a continuous flow of data\n",
    "tesla.sort_values('Date',ascending=True)"
   ]
  },
  {
   "cell_type": "code",
   "execution_count": 8,
   "id": "68c466d0",
   "metadata": {},
   "outputs": [
    {
     "data": {
      "image/png": "[encoded data removed]",
      "text/plain": [
       "<Figure size 432x288 with 1 Axes>"
      ]
     },
     "metadata": {
      "needs_background": "light"
     },
     "output_type": "display_data"
    }
   ],
   "source": [
    "tesla.plot()\n",
    "plt.show()"
   ]
  },
  {
   "cell_type": "code",
   "execution_count": 9,
   "id": "e62eb292",
   "metadata": {},
   "outputs": [
    {
     "data": {
      "text/plain": [
       "(<Figure size 1080x360 with 1 Axes>, <AxesSubplot:>)"
      ]
     },
     "execution_count": 9,
     "metadata": {},
     "output_type": "execute_result"
    },
    {
     "data": {
      "image/png": "[encoded data removed]",
      "text/plain": [
       "<Figure size 1080x360 with 1 Axes>"
      ]
     },
     "metadata": {
      "needs_background": "light"
     },
     "output_type": "display_data"
    }
   ],
   "source": [
    "plt.figure(figsize=(15,5)),tesla.Close.plot()"
   ]
  },
  {
   "cell_type": "code",
   "execution_count": 10,
   "id": "662efa1a",
   "metadata": {},
   "outputs": [
    {
     "data": {
      "text/plain": [
       "773.7"
      ]
     },
     "execution_count": 10,
     "metadata": {},
     "output_type": "execute_result"
    }
   ],
   "source": [
    "#finding 30% percent of the data for train test split\n",
    "2579*30/100"
   ]
  },
  {
   "cell_type": "code",
   "execution_count": 11,
   "id": "f1b2c6a1",
   "metadata": {},
   "outputs": [
    {
     "data": {
      "text/plain": [
       "1806"
      ]
     },
     "execution_count": 11,
     "metadata": {},
     "output_type": "execute_result"
    }
   ],
   "source": [
    "2579-773"
   ]
  },
  {
   "cell_type": "code",
   "execution_count": 12,
   "id": "4ebaea24",
   "metadata": {},
   "outputs": [],
   "source": [
    "train=tesla.head(1806)\n",
    "test=tesla.tail(773)"
   ]
  },
  {
   "cell_type": "code",
   "execution_count": 13,
   "id": "6fcc56e8",
   "metadata": {},
   "outputs": [],
   "source": [
    "x=tesla[['Open','High','Low','Volume']].values\n",
    "y=tesla['Close'].values"
   ]
  },
  {
   "cell_type": "code",
   "execution_count": 14,
   "id": "228ed18d",
   "metadata": {},
   "outputs": [],
   "source": [
    "x_train,x_test,y_train,y_test=train_test_split(x,y,test_size=0.25,random_state=1)"
   ]
  },
  {
   "cell_type": "code",
   "execution_count": 15,
   "id": "13b22389",
   "metadata": {},
   "outputs": [
    {
     "data": {
      "text/plain": [
       "LinearRegression()"
      ]
     },
     "execution_count": 15,
     "metadata": {},
     "output_type": "execute_result"
    }
   ],
   "source": [
    "lr=LinearRegression()\n",
    "lr.fit(x_train,y_train)"
   ]
  },
  {
   "cell_type": "code",
   "execution_count": 16,
   "id": "987aef04",
   "metadata": {},
   "outputs": [],
   "source": [
    "lr_pred=lr.predict(x_test)"
   ]
  },
  {
   "cell_type": "code",
   "execution_count": 17,
   "id": "99f4b8c2",
   "metadata": {},
   "outputs": [
    {
     "data": {
      "text/plain": [
       "(99.9289583548221, 99.9683802820477)"
      ]
     },
     "execution_count": 17,
     "metadata": {},
     "output_type": "execute_result"
    }
   ],
   "source": [
    "lr_score=lr.score(x_train,y_train)*100,lr.score(x_test,y_test)*100,\n",
    "lr_score"
   ]
  },
  {
   "cell_type": "code",
   "execution_count": 18,
   "id": "30d66c7f",
   "metadata": {},
   "outputs": [
    {
     "data": {
      "text/plain": [
       "(99.96838028208998, 99.9289583548221)"
      ]
     },
     "execution_count": 18,
     "metadata": {},
     "output_type": "execute_result"
    }
   ],
   "source": [
    "99.96838028208998, 99.9289583548221"
   ]
  },
  {
   "cell_type": "code",
   "execution_count": 19,
   "id": "d2bcaaa3",
   "metadata": {},
   "outputs": [
    {
     "data": {
      "text/plain": [
       "array([ 48.28914449,   5.45566798,  67.82128469,   6.67994154,\n",
       "        50.57502952,  50.1617738 ,  41.86056848,  24.43110999,\n",
       "        49.55447168,  43.90036552, 298.82558925,  37.52571144,\n",
       "         7.84703229,  43.74585823,  54.55203601,   4.851337  ,\n",
       "        43.062659  ,  62.24937614,   6.61308522,  50.87314257,\n",
       "       162.21031174,  54.02986781,  26.90393361,  17.37669898,\n",
       "        67.53457809,  45.30904158,  72.84831234,  49.06606568,\n",
       "       143.29804214,  51.93023302,  50.70437759,  29.53001059,\n",
       "        49.58209693,  47.45654026,  32.78133944, 155.08483412,\n",
       "        62.71107765,   4.3513569 ,  43.69674143,  27.58859933,\n",
       "        58.69852396,  38.25136847,  38.98251183,  38.58968014,\n",
       "        23.66735021,  39.00627047,   3.44442702,  40.98193686,\n",
       "         7.99964843,  52.45775906,   3.95789754,   5.73416735,\n",
       "         3.00864116,  42.26425866,  33.17033388,   7.29318426,\n",
       "         7.19982391,  49.53666747, 449.61927848,   8.2447838 ,\n",
       "       130.85756513,  47.09693149,  70.11790864,  41.82826745,\n",
       "        43.80901176,  55.30006897, 126.85992164,  64.02354353,\n",
       "        48.65984514,  67.91711145,   5.12695467,  58.1617853 ,\n",
       "        39.68186994,  41.28208078,   6.79414073,  37.23414056,\n",
       "        34.89908799,   5.67014668,  53.94565221,  45.23822618,\n",
       "         5.58389297,  72.52728896,  54.86820953,  38.41499983,\n",
       "         5.76773925, 201.5427187 ,  10.48627557,   4.23336242,\n",
       "        43.83172654,  39.75535898,  44.99454661,   5.87362604,\n",
       "         4.17744665,   5.01589044,  65.05101246,  68.17406732,\n",
       "        53.38318374,   4.8117503 ,  45.57333658,   6.07907422,\n",
       "        51.2729482 ,   6.99896218,  46.5067573 ,  71.37916155,\n",
       "       308.39389603,  44.63214637,  61.10966551,  43.33589388,\n",
       "         5.97785252,   4.91428564,  30.71977957,   5.62302063,\n",
       "        50.09986939,  63.97799694,   7.10046287, 300.54991246,\n",
       "        30.22390077,  24.71843713,  50.23675359,   6.29205652,\n",
       "        46.66066823,   7.05328441,  70.81603341,  50.50822331,\n",
       "        46.29079214,  63.63858296,   5.71361188,  45.90282351,\n",
       "        68.93601454,  34.99280958,  54.34130117,  45.59635168,\n",
       "        46.86705461,  57.38040571,  69.36015483,  39.67907559,\n",
       "        52.34217159,  28.90142662,   7.48312773,  45.75018172,\n",
       "        68.3696237 ,   5.24977598,  10.8774822 ,  39.04211063,\n",
       "        43.77740703,  46.45138759,  36.97970416,   6.3694472 ,\n",
       "        43.46724477,  44.02259331,  51.32213643,  50.20839441,\n",
       "        85.13404241,  66.02722571,  44.11352583,  65.69177312,\n",
       "        61.19922159,  53.65116214,  35.72199886,  37.90909507,\n",
       "        50.53667585,  51.63542186,  61.53054789,   6.53501045,\n",
       "         4.26187307,   5.56266662,  53.19820019,  35.81198136,\n",
       "        59.7063004 ,   5.86986547,  48.75611114,  32.92571341,\n",
       "        69.87652908,   7.17481647,  24.21645082,  94.8633386 ,\n",
       "         4.97934564,  44.03001141,   5.01178995,  37.95623075,\n",
       "        41.73730615,   5.69715157,  73.54231592,   6.2143282 ,\n",
       "        62.71464661,  42.36986228,  11.21873301,  46.75601401,\n",
       "        55.44924052,  40.32169969,   6.47124082,   5.13760721,\n",
       "         6.10733386,   5.99332466,  67.60988729, 156.87550143,\n",
       "        29.77493869,  67.92148605,  41.2001728 ,  49.74944732,\n",
       "        34.74596429,  76.13068341,  42.30434832,  39.39635287,\n",
       "        42.13946382,  25.3395101 ,  20.43278734,  60.93644334,\n",
       "        42.35237142,   5.4751806 ,  45.12036385,  33.57670205,\n",
       "        46.39420734,  42.40762562,  38.66259093,  24.10930022,\n",
       "        30.64286876,  44.3852214 ,  45.43317617,   6.04793947,\n",
       "        37.48479342,   6.6035771 ,   7.67615726,  96.8980177 ,\n",
       "        45.45025122,   4.30046274,   5.76093495,  61.82657288,\n",
       "       300.1997818 , 274.79426782,  50.88694182,   6.90658317,\n",
       "         6.78562237,  56.41816244,   6.04853723,  59.88454306,\n",
       "         5.84325061,  36.35350286, 148.95108161,  71.84085229,\n",
       "        56.03125453,  35.89132127,  46.17707034,   7.31464127,\n",
       "        71.20335435,  64.3408441 ,  49.58093953,  47.5072904 ,\n",
       "        44.39190597,  56.55175591,   6.19437979,  58.8582351 ,\n",
       "        42.42192616,  42.34534585,  33.80860035,  40.52109898,\n",
       "        44.98569274,   6.77618426,   4.92182654,  50.03249028,\n",
       "         4.76558851,  63.68237596,  24.6915015 ,  45.56185185,\n",
       "        58.24345454,  50.00823866,   6.19500865,  40.98752056,\n",
       "        32.59706764,  40.27825647,  48.21553645,  37.73713047,\n",
       "        44.25192192,  43.94650965,   6.36991864,   5.52522324,\n",
       "         5.42054561,   7.12816433,   4.20235259,  42.36101973,\n",
       "         6.94763246,  54.36551439,  40.98980035,  54.42220552,\n",
       "        66.14768078,  68.98312574,   6.70774099,  68.28102265,\n",
       "        51.00638923,  47.80835031,   4.33521569,   6.30056374,\n",
       "        57.6773815 ,  24.26623056,   7.28923811,  59.6117314 ,\n",
       "         6.65722268,  65.90178105,  47.33256267,  53.15390791,\n",
       "        49.11040019,  40.66241421,  38.61401113,  64.10620768,\n",
       "        47.3122685 , 161.09580714,  96.86726735,  55.82768869,\n",
       "        18.75644356,  50.01178534,   5.10562754,  27.26014971,\n",
       "        40.99145961,  44.22013418, 111.90858427,  50.23152148,\n",
       "         6.09161758,  55.47797756,   6.94617002,   5.67321015,\n",
       "         4.35315688,  51.00858304,  42.87961644,  56.03271356,\n",
       "        44.88624386,   7.13682977,  61.92079826,   6.50090914,\n",
       "        65.64891732,   5.63537953,  63.47332772, 174.50860914,\n",
       "        52.8628275 ,  39.52590622,   5.69761077,  48.79088897,\n",
       "         6.97225768,   6.32305319,   6.68344122,  73.18422499,\n",
       "         6.44817782,  40.89467554,   8.89596084,  49.71874713,\n",
       "         5.9784171 ,   5.965097  ,  37.87169951,   5.78403836,\n",
       "         5.53921615,  49.76919634,  31.29140524,  52.24143609,\n",
       "         5.38196681,  62.4923413 ,   7.52055842,  55.565037  ,\n",
       "         6.18465041,   5.9892758 ,  46.95476156,   6.73960575,\n",
       "        44.74398271,  69.81509852,   6.87779898,   7.96332091,\n",
       "        36.6123718 ,   5.6530816 ,   5.56138387,  61.91151066,\n",
       "        66.71985534,  44.44008443,  48.80910126,  68.34851474,\n",
       "        44.08940594,  47.32063878,  42.00339952,  59.18700991,\n",
       "         6.80135379,  51.679361  ,  51.21747505,  38.63863747,\n",
       "        46.20660541,  53.91653919,  39.31434777, 162.84341788,\n",
       "        64.36375039,   5.92023199,  45.48752952,  38.93943706,\n",
       "        61.34227732,  59.0139059 ,  67.76110047,   8.98067346,\n",
       "        69.83314909,   6.9980661 ,  44.55512356,  51.89821993,\n",
       "        65.99616818, 163.36728029,   5.08706621, 427.79230519,\n",
       "        49.71237702,  39.50318553,  62.50660369,  37.61077407,\n",
       "        69.73436614, 114.14604541, 134.10269454, 155.00119627,\n",
       "       392.06758081,   6.67862494,  58.04199218,  43.16648823,\n",
       "         5.7245215 ,  46.40262117,  71.76393981,  45.57002465,\n",
       "       199.72450332,  50.60674475,  39.39421248,  62.00802571,\n",
       "        67.54854512,  52.75604641,   6.11457709,  35.35847854,\n",
       "        42.0041379 , 113.20740677,  40.28000779,   9.13505821,\n",
       "        49.40892559,  67.39261896,  57.04403571,  43.50777056,\n",
       "        52.40166344,   5.65905238,  39.13966828,  40.25617355,\n",
       "        27.50876368,  36.40237142,  40.62128285,   6.33148798,\n",
       "        56.53964851,  62.41222916,  20.4003356 ,  46.4565847 ,\n",
       "         6.96792166,  44.38885583,   6.01647192,  66.18460247,\n",
       "        41.30014729,  41.47104002,  44.85205523,  63.68681759,\n",
       "         7.32551591,   7.72842958,   6.02015435,   7.61253493,\n",
       "        45.93285751,  40.19562363,   5.54145306,  43.11165627,\n",
       "         5.09282561,  50.43597478,  44.6711966 ,   5.84850059,\n",
       "        62.42351819,  41.72901945,  10.0207699 ,  40.47215027,\n",
       "        62.93600131,  57.22597023,  66.84414163,   6.39701483,\n",
       "        62.66601013,   5.71199505,  68.16962311,  69.00425214,\n",
       "        63.77734733, 362.88974273,  44.94071268,  52.43391282,\n",
       "       105.57776401,  58.18869512,  83.24628237,  23.27365693,\n",
       "        39.61950412,  39.93386288,  69.09245907,  63.16326664,\n",
       "         4.51040662,  49.25200294,   6.20157893,  46.90961484,\n",
       "        47.41333814,  46.46327305,   5.47238329,   7.88313725,\n",
       "         5.26445296,   5.68715986,   5.89687319,  68.68831968,\n",
       "        61.12236279,  70.44101441,   4.59959721,   6.05869578,\n",
       "         6.07257954, 322.32531513,  45.47762297,  59.98814279,\n",
       "        41.14370227,   4.27739646,  67.23685944,   5.43355955,\n",
       "         6.98663855,   7.7727942 ,   5.85197619,  74.0952157 ,\n",
       "       453.38843606,   5.76433369, 270.33321619,  76.57029835,\n",
       "        45.26455231,  46.6249802 ,  45.13833339, 101.56383681,\n",
       "        50.17932515,   6.7656151 ,  32.95301907,  66.80769476,\n",
       "        38.92601014,  51.5628432 ,  38.76816393,  42.27087972,\n",
       "         6.58334953,   5.64532252,   5.90550709,  41.43500853,\n",
       "        32.39244557,  50.91072318,  89.42609494,  57.03750595,\n",
       "        65.68761642,  49.75914162,  63.27556957,   6.43262678,\n",
       "         5.8105138 ,  69.58223905,  63.38573219,  61.47666016,\n",
       "       187.04355949, 386.07419922,  66.12375806,  70.93125493,\n",
       "        67.93341486,  45.98557319,   7.78965979,   5.86568422,\n",
       "         5.90997675,  69.64361785,  70.96972283,  59.8587453 ,\n",
       "        45.64731915,  43.30342624,  39.03037849,  40.56350274,\n",
       "        65.18523081,  28.4170208 ,  69.37388189,   7.72348824,\n",
       "        45.45698913,   5.40366225,  37.49896411,   3.68475341,\n",
       "         5.94591586,   5.8272267 ,  40.40443211,  44.85955574,\n",
       "         9.89787978,   5.02969729,  41.90025785,   4.98753765,\n",
       "        49.78988321,  39.32833676,   7.61137114,  25.54913851,\n",
       "        45.58149069,  18.87006583,  41.29661275,  92.67888357,\n",
       "         6.41480683,   7.6718944 ,  17.47657327,  59.37780382,\n",
       "        67.84036917, 327.67685647,  49.45809814,   5.33352254,\n",
       "         4.74153777,   7.63854211,  42.04696004, 152.072291  ,\n",
       "        67.19742995,  44.3167345 ,  37.70567076,   5.76721434,\n",
       "         4.44307951,  33.18633568,  60.45097621,  37.70460002,\n",
       "        72.78106859,  40.08111123,  50.45361146,  46.09090206,\n",
       "        39.24855889,  45.95709622,   7.9010379 ,  33.22424082,\n",
       "         7.04603703,  50.43327347,  40.48418773,  58.32564681,\n",
       "         6.9980595 ,   6.30121797,  53.93899475,  37.17697985,\n",
       "        52.18181335,   6.45332885,  45.49599388,  66.13937491,\n",
       "         4.26901719,   5.31252582,  52.26905186, 102.80267266,\n",
       "        70.16825715,  68.35480507,   4.39238508,   5.57575263,\n",
       "        66.15029539,   5.69788377,  49.79636721, 403.96235515,\n",
       "        48.0793547 ,  47.16545553,   4.79560818,   5.57406352,\n",
       "        48.00230732])"
      ]
     },
     "execution_count": 19,
     "metadata": {},
     "output_type": "execute_result"
    }
   ],
   "source": [
    "lr_pred"
   ]
  },
  {
   "cell_type": "code",
   "execution_count": 20,
   "id": "86155b2a",
   "metadata": {},
   "outputs": [
    {
     "data": {
      "text/plain": [
       "array([ 48.598   ,   5.348   ,  68.57    ,   6.43    ,  49.812   ,\n",
       "        50.004002,  41.400002,  24.690001,  49.785999,  43.472   ,\n",
       "       297.      ,  38.782001,   7.708   ,  43.888   ,  53.790001,\n",
       "         4.65    ,  43.529999,  62.924   ,   6.426   ,  51.400002,\n",
       "       163.884003,  54.992001,  27.09    ,  18.450001,  66.185997,\n",
       "        45.849998,  72.550003,  48.948002, 145.029999,  52.188   ,\n",
       "        50.700001,  29.916   ,  49.625999,  47.119999,  33.756001,\n",
       "       153.457993,  63.362   ,   4.17    ,  43.299999,  27.472   ,\n",
       "        59.408001,  38.158001,  38.546001,  38.613998,  23.936001,\n",
       "        39.217999,   3.48    ,  40.807999,   7.796   ,  52.062   ,\n",
       "         3.806   ,   5.596   ,   3.16    ,  41.554001,  33.736   ,\n",
       "         7.202   ,   7.016   ,  49.546001, 447.75    ,   8.22    ,\n",
       "       121.599998,  47.549999,  69.528   ,  41.490002,  44.214001,\n",
       "        56.004002, 126.846001,  63.444   ,  48.245998,  68.503998,\n",
       "         5.012   ,  57.790001,  40.576   ,  40.931999,   6.624   ,\n",
       "        35.717999,  34.695999,   5.514   ,  54.445999,  45.276001,\n",
       "         5.466   ,  71.940002,  55.478001,  38.374001,   5.468   ,\n",
       "       200.792007,  10.202   ,   4.034   ,  43.911999,  39.993999,\n",
       "        44.66    ,   5.664   ,   3.95    ,   4.8     ,  65.556   ,\n",
       "        68.012001,  54.026001,   4.622   ,  45.860001,   5.9     ,\n",
       "        50.602001,   6.788   ,  46.102001,  71.93    , 310.951996,\n",
       "        45.023998,  60.771999,  43.862   ,   5.896   ,   4.816   ,\n",
       "        30.488001,   5.796   ,  50.265999,  64.045998,   6.87    ,\n",
       "       303.359985,  32.254002,  25.218   ,  49.542   ,   6.234   ,\n",
       "        46.226002,   6.914   ,  71.543999,  51.375999,  46.683998,\n",
       "        63.914001,   5.56    ,  46.321999,  69.573997,  35.799999,\n",
       "        54.672001,  45.801998,  46.678001,  58.183998,  69.178001,\n",
       "        39.556   ,  52.082001,  29.493999,   7.202   ,  45.402   ,\n",
       "        68.783997,   5.06    ,  10.656   ,  39.740002,  44.166   ,\n",
       "        45.953999,  36.787998,   6.23    ,  43.094002,  43.403999,\n",
       "        51.992001,  50.125999,  86.052002,  64.694   ,  43.998001,\n",
       "        65.987999,  61.001999,  53.540001,  35.442001,  37.736   ,\n",
       "        49.984001,  52.147999,  62.259998,   6.34    ,   4.12    ,\n",
       "         5.448   ,  53.335999,  36.189999,  59.852001,   5.754   ,\n",
       "        48.630001,  33.273998,  69.870003,   6.954   ,  24.454   ,\n",
       "        89.014   ,   4.852   ,  44.922001,   4.99    ,  37.484001,\n",
       "        41.438   ,   5.576   ,  73.32    ,   6.082   ,  63.702   ,\n",
       "        42.667999,  10.798   ,  46.796001,  55.490002,  40.509998,\n",
       "         6.508   ,   5.032   ,   5.962   ,   5.788   ,  66.725998,\n",
       "       159.75    ,  30.208   ,  67.468002,  41.993999,  49.695999,\n",
       "        34.883999,  75.797997,  42.124001,  39.313999,  41.919998,\n",
       "        25.98    ,  20.440001,  61.369999,  42.740002,   5.238   ,\n",
       "        44.981998,  33.316002,  46.358002,  42.796001,  38.627998,\n",
       "        24.34    ,  30.6     ,  44.506001,  45.563999,   6.028   ,\n",
       "        36.903999,   6.47    ,   7.504   ,  96.001999,  45.130001,\n",
       "         4.19    ,   5.626   ,  61.504002, 297.915985, 278.855988,\n",
       "        50.372002,   6.728   ,   6.622   ,  56.366001,   5.832   ,\n",
       "        57.931999,   5.47    ,  36.568001, 149.272003,  71.678001,\n",
       "        55.584   ,  36.222   ,  46.194   ,   7.2     ,  70.384003,\n",
       "        65.316002,  49.242001,  48.048   ,  44.612   ,  56.452   ,\n",
       "         6.056   ,  58.245998,  42.189999,  41.852001,  34.194   ,\n",
       "        40.869999,  45.366001,   6.652   ,   4.784   ,  49.492001,\n",
       "         4.594   ,  64.328003,  24.813999,  45.917999,  58.818001,\n",
       "        50.507999,   6.004   ,  41.285999,  32.52    ,  40.084   ,\n",
       "        48.625999,  38.720001,  44.138   ,  43.709999,   6.272   ,\n",
       "         5.392   ,   5.22    ,   6.922   ,   3.974   ,  42.312   ,\n",
       "         6.742   ,  55.318001,  40.944   ,  54.462002,  66.332001,\n",
       "        69.017998,   6.584   ,  67.746002,  51.355999,  48.292   ,\n",
       "         4.212   ,   6.208   ,  58.301998,  24.167999,   7.064   ,\n",
       "        59.      ,   6.438   ,  66.774002,  47.473999,  53.358002,\n",
       "        49.124001,  40.754002,  38.486   ,  64.732002,  46.981998,\n",
       "       156.376007,  98.428001,  55.318001,  19.416   ,  49.848   ,\n",
       "         4.964   ,  27.6     ,  40.849998,  44.43    , 112.963997,\n",
       "        49.782001,   5.882   ,  55.77    ,   6.85    ,   5.504   ,\n",
       "         4.108   ,  51.599998,  43.029999,  56.147999,  45.439999,\n",
       "         7.038   ,  62.07    ,   6.312   ,  66.459999,   5.534   ,\n",
       "        63.914001, 172.876007,  52.627998,  39.332001,   5.582   ,\n",
       "        48.636002,   6.762   ,   6.164   ,   6.582   ,  72.706001,\n",
       "         6.322   ,  40.459999,   8.868   ,  50.076   ,   5.752   ,\n",
       "         5.88    ,  38.386002,   5.582   ,   5.546   ,  49.889999,\n",
       "        32.894001,  52.416   ,   5.298   ,  63.080002,   7.48    ,\n",
       "        55.57    ,   5.968   ,   5.828   ,  46.512001,   6.592   ,\n",
       "        44.647999,  70.120003,   6.764   ,   7.588   ,  37.      ,\n",
       "         5.476   ,   5.416   ,  62.644001,  66.891998,  44.192001,\n",
       "        48.737999,  67.014   ,  43.922001,  47.001999,  42.605999,\n",
       "        58.669998,   6.844   ,  52.144001,  50.868   ,  39.147999,\n",
       "        45.698002,  53.757999,  41.071999, 165.520004,  64.564003,\n",
       "         5.738   ,  45.411999,  38.748001,  62.577999,  59.492001,\n",
       "        67.706001,   8.75    ,  69.209999,   6.78    ,  44.099998,\n",
       "        52.402   ,  66.073997, 163.112   ,   5.11    , 424.230011,\n",
       "        49.827999,  39.472   ,  63.976002,  39.098   ,  69.461998,\n",
       "       112.110001, 133.598007, 156.516006, 380.359985,   6.448   ,\n",
       "        57.700001,  42.936001,   5.668   ,  46.472   ,  71.935997,\n",
       "        45.945999, 200.179993,  50.922001,  39.282001,  61.740002,\n",
       "        68.206001,  53.556   ,   5.89    ,  35.675999,  42.048   ,\n",
       "       113.379997,  40.448002,   9.09    ,  49.768002,  67.463997,\n",
       "        56.189999,  43.672001,  52.389999,   5.64    ,  39.209999,\n",
       "        41.015999,  27.790001,  36.678001,  40.301998,   6.268   ,\n",
       "        57.096001,  62.813999,  20.129999,  46.490002,   6.808   ,\n",
       "        43.939999,   5.72    ,  65.980003,  41.456001,  41.743999,\n",
       "        45.344002,  65.178001,   7.218   ,   7.646   ,   5.87    ,\n",
       "         7.448   ,  45.377998,  40.442001,   5.542   ,  43.118   ,\n",
       "         4.996   ,  50.293999,  44.006001,   5.6     ,  62.166   ,\n",
       "        42.048   ,  10.086   ,  40.998001,  63.175999,  56.945999,\n",
       "        66.601997,   6.266   ,  63.854   ,   5.594   ,  67.589996,\n",
       "        68.905998,  64.769997, 367.127991,  44.956001,  52.509998,\n",
       "       107.584   ,  57.992001,  83.844002,  23.048   ,  39.301998,\n",
       "        39.646   ,  68.587997,  63.009998,   4.188   ,  49.23    ,\n",
       "         6.038   ,  46.464001,  48.293999,  47.153999,   5.25    ,\n",
       "         7.69    ,   5.166   ,   5.484   ,   5.742   ,  69.050003,\n",
       "        60.186001,  70.410004,   4.506   ,   5.982   ,   5.902   ,\n",
       "       324.200012,  46.122002,  60.630001,  41.054001,   4.108   ,\n",
       "        66.879997,   5.334   ,   6.834   ,   7.602   ,   5.872   ,\n",
       "        73.959999, 449.76001 ,   5.648   , 274.31601 ,  76.690002,\n",
       "        46.605999,  47.360001,  45.141998, 103.248001,  49.717999,\n",
       "         6.644   ,  33.108002,  66.959999,  39.821999,  51.146   ,\n",
       "        39.388   ,  43.042   ,   6.43    ,   5.464   ,   5.724   ,\n",
       "        41.492001,  31.844   ,  50.967999,  90.307999,  56.674   ,\n",
       "        65.82    ,  49.784   ,  62.172001,   6.246   ,   5.682   ,\n",
       "        69.998001,  63.509998,  61.779999, 189.983994, 387.790009,\n",
       "        67.024002,  70.279999,  67.405998,  46.085999,   7.626   ,\n",
       "         5.63    ,   5.674   ,  69.222   ,  71.033997,  60.598   ,\n",
       "        45.118   ,  43.813999,  38.776001,  40.806   ,  65.120003,\n",
       "        28.4     ,  69.767998,   7.57    ,  45.784   ,   5.278   ,\n",
       "        37.728001,   3.52    ,   5.762   ,   5.69    ,  39.993999,\n",
       "        44.334   ,   9.566   ,   4.932   ,  42.560001,   4.804   ,\n",
       "        49.993999,  38.945999,   7.316   ,  25.878   ,  44.641998,\n",
       "        18.968   ,  41.035999,  85.505997,   6.018   ,   7.538   ,\n",
       "        18.299999,  58.967999,  66.594002, 330.141998,  48.436001,\n",
       "         5.116   ,   4.55    ,   7.466   ,  42.282001, 156.      ,\n",
       "        66.970001,  44.108002,  37.004002,   5.634   ,   4.258   ,\n",
       "        33.394001,  59.077999,  37.717999,  73.246002,  39.276001,\n",
       "        50.282001,  46.094002,  39.063999,  45.872002,   7.834   ,\n",
       "        33.316002,   6.78    ,  50.624001,  40.875999,  59.936001,\n",
       "         6.882   ,   6.3     ,  53.354   ,  37.667999,  53.226002,\n",
       "         6.21    ,  45.664001,  66.258003,   4.046   ,   5.55    ,\n",
       "        52.632   , 104.972   ,  70.489998,  69.199997,   4.392   ,\n",
       "         5.468   ,  66.608002,   5.554   ,  49.658001, 407.339996,\n",
       "        48.228001,  47.784   ,   4.576   ,   5.32    ,  48.452   ])"
      ]
     },
     "execution_count": 20,
     "metadata": {},
     "output_type": "execute_result"
    }
   ],
   "source": [
    "y_test"
   ]
  },
  {
   "cell_type": "code",
   "execution_count": 21,
   "id": "4ade9ddb",
   "metadata": {},
   "outputs": [],
   "source": [
    "result=pd.DataFrame({'Actual':y_test.flatten(),'Predicted':lr_pred.flatten()})"
   ]
  },
  {
   "cell_type": "code",
   "execution_count": 22,
   "id": "4b1e932d",
   "metadata": {},
   "outputs": [
    {
     "data": {
      "text/html": [
       "<div>\n",
       "<style scoped>\n",
       "    .dataframe tbody tr th:only-of-type {\n",
       "        vertical-align: middle;\n",
       "    }\n",
       "\n",
       "    .dataframe tbody tr th {\n",
       "        vertical-align: top;\n",
       "    }\n",
       "\n",
       "    .dataframe thead th {\n",
       "        text-align: right;\n",
       "    }\n",
       "</style>\n",
       "<table border=\"1\" class=\"dataframe\">\n",
       "  <thead>\n",
       "    <tr style=\"text-align: right;\">\n",
       "      <th></th>\n",
       "      <th>Actual</th>\n",
       "      <th>Predicted</th>\n",
       "    </tr>\n",
       "  </thead>\n",
       "  <tbody>\n",
       "    <tr>\n",
       "      <th>0</th>\n",
       "      <td>48.598000</td>\n",
       "      <td>48.289144</td>\n",
       "    </tr>\n",
       "    <tr>\n",
       "      <th>1</th>\n",
       "      <td>5.348000</td>\n",
       "      <td>5.455668</td>\n",
       "    </tr>\n",
       "    <tr>\n",
       "      <th>2</th>\n",
       "      <td>68.570000</td>\n",
       "      <td>67.821285</td>\n",
       "    </tr>\n",
       "    <tr>\n",
       "      <th>3</th>\n",
       "      <td>6.430000</td>\n",
       "      <td>6.679942</td>\n",
       "    </tr>\n",
       "    <tr>\n",
       "      <th>4</th>\n",
       "      <td>49.812000</td>\n",
       "      <td>50.575030</td>\n",
       "    </tr>\n",
       "    <tr>\n",
       "      <th>5</th>\n",
       "      <td>50.004002</td>\n",
       "      <td>50.161774</td>\n",
       "    </tr>\n",
       "    <tr>\n",
       "      <th>6</th>\n",
       "      <td>41.400002</td>\n",
       "      <td>41.860568</td>\n",
       "    </tr>\n",
       "    <tr>\n",
       "      <th>7</th>\n",
       "      <td>24.690001</td>\n",
       "      <td>24.431110</td>\n",
       "    </tr>\n",
       "    <tr>\n",
       "      <th>8</th>\n",
       "      <td>49.785999</td>\n",
       "      <td>49.554472</td>\n",
       "    </tr>\n",
       "    <tr>\n",
       "      <th>9</th>\n",
       "      <td>43.472000</td>\n",
       "      <td>43.900366</td>\n",
       "    </tr>\n",
       "  </tbody>\n",
       "</table>\n",
       "</div>"
      ],
      "text/plain": [
       "      Actual  Predicted\n",
       "0  48.598000  48.289144\n",
       "1   5.348000   5.455668\n",
       "2  68.570000  67.821285\n",
       "3   6.430000   6.679942\n",
       "4  49.812000  50.575030\n",
       "5  50.004002  50.161774\n",
       "6  41.400002  41.860568\n",
       "7  24.690001  24.431110\n",
       "8  49.785999  49.554472\n",
       "9  43.472000  43.900366"
      ]
     },
     "execution_count": 22,
     "metadata": {},
     "output_type": "execute_result"
    }
   ],
   "source": [
    "result.head(10)"
   ]
  },
  {
   "cell_type": "code",
   "execution_count": 23,
   "id": "8a7263e2",
   "metadata": {},
   "outputs": [],
   "source": [
    "from sklearn.svm import SVR"
   ]
  },
  {
   "cell_type": "code",
   "execution_count": 24,
   "id": "d0fedbbe",
   "metadata": {},
   "outputs": [
    {
     "name": "stdout",
     "output_type": "stream",
     "text": [
      "[ 43.91688943  43.16628004  43.31919316  43.20207349  43.33651885\n",
      "  43.34899347  43.78301264  44.23328963  44.49323342  43.21923652\n",
      "  44.31211582  47.45003326  43.2130016   43.97980787  43.75827918\n",
      "  43.16446642  44.11642313  44.81748451  43.16193308  44.0799508\n",
      "  50.22341946  46.891346    44.79456925  60.15200345  43.71111035\n",
      "  43.39387646  43.52034836  43.57920299  47.06500037  43.24459358\n",
      "  43.37470223  43.60666881  43.3837066   43.38782548  49.20784956\n",
      "  46.0858003   43.32091571  43.16180182  43.32740378  43.99443799\n",
      "  43.80291311  43.75391568  54.13886866  43.24051416  43.50567783\n",
      "  43.32257692  43.27362719  43.40089943  43.16273358  43.72243583\n",
      "  43.16533855  43.16202288  43.71979552  43.45431702  43.49440166\n",
      "  43.17453268  43.16402947  43.18028618  65.54145374  43.46425476\n",
      "  43.22879769  43.54241474  43.73558976  43.20305827  43.19920946\n",
      "  43.78044434  43.1936293   43.37702614  43.2993686   44.24596813\n",
      "  43.16578811  44.14158365  49.61095518  43.20048902  43.16188077\n",
      "  56.73758884  44.00134161  43.1626378   43.57400328  43.25288841\n",
      "  43.16712982  44.18132161  45.50678921  43.40065208  43.16805771\n",
      "  44.72228885  43.24938736  43.16189624  43.20644907  43.21520725\n",
      "  43.94477236  43.16195296  43.16193638  43.16282546  43.4613061\n",
      "  43.6184366   43.56560229  43.16232763  43.41339998  43.16671324\n",
      "  43.3358506   43.16200596  43.30854173  44.55848735  60.83251533\n",
      "  43.27544249  43.29730604  43.34377658  43.16730595  43.16244423\n",
      "  43.31183204  43.33572825  43.17939287  43.510075    43.16548897\n",
      "  64.77147075  78.5656749   56.25525507  43.1886944   43.16290743\n",
      "  43.21410167  43.16840822  45.38981784  46.70323589  43.34516659\n",
      "  44.12499351  43.16355801  43.17426413  43.28012661  43.4261083\n",
      "  43.80911456  43.44603151  43.2221914   43.84152197  43.41053828\n",
      "  43.52115935  43.44372398  45.26254775  43.16433349  43.2988273\n",
      "  43.59432902  43.16278392  43.19651869  43.49670226  43.95855353\n",
      "  44.02748891  45.3882964   43.16255086  43.2125405   43.22056397\n",
      "  43.5992454   43.25420947  44.61913255  44.2080094   43.18068569\n",
      "  43.18701995  43.8568349   43.67837261  43.52242335  43.43183648\n",
      "  44.45576059  44.12394984  43.52139388  43.16204028  43.16215831\n",
      "  43.19914563  43.16889998  58.25013509  56.2061573   43.16720091\n",
      "  43.3017211   44.37533013  43.61645052  43.16248641  43.45731469\n",
      "  43.27759068  43.16378386  47.07278957  43.16843717  43.19321893\n",
      "  43.22971774  43.16364252  43.37555578  43.16253388  43.89950833\n",
      "  43.33322763  43.44521474  43.5095983   44.01931477  43.213105\n",
      "  43.21760031  43.16207699  43.16252895  43.16525469  44.98237854\n",
      "  58.0462557   43.79925887  43.31428343  52.97876197  43.19525088\n",
      "  43.80780707  44.19398837  43.23044499  43.28232453  43.96609054\n",
      "  45.61815791  43.75547701  43.47792904  43.52523274  43.16231536\n",
      "  43.17299573  43.8931467   43.34820059  43.39503727  43.35878073\n",
      "  43.70714701  44.3591237   43.23817188  43.22376475  43.22174759\n",
      "  43.30135596  43.17540204  43.16332572  62.48734327  43.18331167\n",
      "  43.1631187   43.16258287  44.19847746  43.52385353  45.86892982\n",
      "  43.28052266  43.16237123  43.16746093  44.75238771  43.16296298\n",
      "  44.97372041  43.17662009  44.21904313  48.55776114  43.63918292\n",
      "  43.28192448  44.08055766  44.12033765  43.16824002  43.37564509\n",
      "  44.00436199  43.96408632  43.5147589   43.27908048  43.36942836\n",
      "  43.16389287  44.35169585  43.20580994  49.0680191   46.04000151\n",
      "  43.26784921  43.41367027  43.16313119  43.16252433  43.23386218\n",
      "  43.16230351  43.51552577  43.41008693  43.25341676  44.22067337\n",
      "  52.88662054  43.17280219  43.18456627  44.57621733  43.21082885\n",
      "  43.46229752  47.59113194  43.55480292  43.22256567  43.16270322\n",
      "  43.17111547  43.1620606   43.16548557  43.16330125  43.41817971\n",
      "  43.16228608  44.61651971  43.2726445   43.50808287  43.30369217\n",
      "  44.83774182  43.16634142  43.43397386  43.20007417  43.40184915\n",
      "  43.16323032  43.16500332  44.02726206  44.98301697  43.16245172\n",
      "  43.98540717  43.17319332  44.81384166  43.29233185  43.17597099\n",
      "  43.17467525  43.56107721  43.18620944  43.32136668  43.25544019\n",
      "  81.99851755  93.99282696  44.5784216   50.21567294  43.26619502\n",
      "  43.16209865  43.57653815  43.31282156  43.63659395  48.13774553\n",
      "  43.2273984   43.16231101  43.25971238  43.1655369   43.16212343\n",
      "  43.16182328  43.89997454  43.2748825   43.93622531  43.26427657\n",
      "  43.17371233  43.29832527  43.16559304  43.37305258  43.16221577\n",
      "  44.78306829  44.34310222  43.17570107  65.68172808  43.16309395\n",
      "  43.43271697  43.16360046  43.16340218  43.16822644  43.71266747\n",
      "  43.1634731   43.23485537  43.65716734  43.1793808   43.16341345\n",
      "  43.16796007  43.31545763  43.16222157  43.22332994  43.18825162\n",
      "  47.89038372  43.26416721  43.16539688  43.896047    43.21391724\n",
      "  43.28439975  43.16748136  43.16346156  43.17433717  43.45043484\n",
      "  43.17140275  43.42316544  43.16661998  43.18934663  44.23388757\n",
      "  43.1619821   43.16346607  47.95622924  44.12474992  43.17101158\n",
      "  43.21030967  54.27087109  43.31811384  43.26147386  48.72791145\n",
      "  43.6363117   43.16942108  43.28601832  43.20350295  43.35127964\n",
      "  43.2023719   43.20071805  57.71366999  46.25843833  43.24047485\n",
      "  43.16644297  43.7653868   43.36897827  43.83049298  43.32791004\n",
      "  43.43162784  43.21436159  43.33557266  43.16519146  43.30795681\n",
      "  43.25916762  43.24874152  43.81888256  44.51607807  49.94614728\n",
      "  43.20823735  43.22665254  45.121217    74.64250203  43.24543012\n",
      "  43.25281042  43.36132116  45.4774998   54.73014455  43.16413464\n",
      "  56.7410413   43.27316403  43.16348015  43.18640211  43.94926715\n",
      "  43.24367515  44.26208955  43.3678061   43.18108066  43.46951022\n",
      "  44.28256103  65.62003652  43.16345206  43.5424897   43.24651292\n",
      "  45.9183678   43.46252169  43.17779749  43.31796892  43.90754877\n",
      "  43.86622816  43.35095023  52.88450729  43.1932936   43.2396132\n",
      "  52.98137972  46.98601599  47.21196522  43.17467721  43.17142533\n",
      "  43.3008765   43.31569319  44.89878178  43.26440946  43.16207897\n",
      "  43.23742922  43.16835308  44.44098741  43.24365497  43.21738176\n",
      "  43.54999815  46.93718541  43.16348976  43.16441393  43.16325631\n",
      "  43.1629709   43.27217583  43.51629374  43.16449397  43.21826467\n",
      "  43.16202157  43.21723637  43.29814559  43.16253941  43.33511749\n",
      "  43.44100196  43.19240881  43.4539241   43.90687407  43.51085275\n",
      "  43.72212051  43.16250125  46.92664037  43.16218321  43.65562755\n",
      "  43.27704055  43.4611464   57.11817899  43.4311662   43.2972778\n",
      "  84.18376139  43.76490273  47.13798535  43.34866671  43.29279148\n",
      "  43.55472635  43.86987864  47.52182073  43.19435145  43.2463341\n",
      "  43.21179107  43.29578673  51.01909907  44.50362472  43.16859212\n",
      "  43.16331958  43.19169172  43.16356582  43.16292742  43.77847752\n",
      "  43.86682157  43.49306739  43.16377654  43.16225432  43.16455734\n",
      "  57.50012803  43.2818029   43.79422418  43.19000601  43.16183785\n",
      "  43.40490793  43.164616    43.16229251  43.16402704  43.21003491\n",
      "  43.63449058  55.56111239  43.18091181  57.80681133  43.61243273\n",
      "  48.93725034  44.5844612   43.19883553  48.7299291   43.231467\n",
      "  43.16571941  43.42693212  43.29650745  43.79041976  43.41669933\n",
      "  43.41196639  43.7065042   43.16307036  43.16589313  43.16237691\n",
      "  43.20842199  44.15975225  44.2873418   44.91248122  43.35896199\n",
      "  43.23811409  43.57515061  46.27971281  43.1651155   43.16279242\n",
      "  43.30517278  43.36582111  44.33427211  47.95399785  55.28144184\n",
      "  43.38405992  43.76167369  43.76403713  43.40820289  43.1655835\n",
      "  43.16296852  43.16487026  44.16628744  43.58746779  43.43374913\n",
      "  43.17596472  43.97147212  43.67069224  43.19090819  43.63785463\n",
      "  43.76610064  44.31957473  43.16326458  43.36314938  43.16266345\n",
      "  43.64872679  43.16235419  43.16501185  43.16587217  43.29373247\n",
      "  44.62887776  43.20776413  43.16641521  44.73056022  43.16229007\n",
      "  43.39758833  43.35904661  43.16363021  44.6659498   46.76678459\n",
      "  44.33054654  43.39737049  43.4664305   43.16809657  43.16435812\n",
      "  54.70708826  43.71158915  44.11497091  46.50980773  43.36046463\n",
      "  43.16321227  43.16210736  43.16264896  43.23653934 220.47601403\n",
      "  48.27671633  43.25575694  43.39980144  43.16323349  43.16226884\n",
      "  44.2394289   43.45099625  43.53264218  43.28514979  43.19487076\n",
      "  43.17617044  43.2335968   43.39482101  43.31432416  43.17321682\n",
      "  43.20541084  43.16228365  43.17495362  43.40642607  87.33705106\n",
      "  43.16238487  43.17627192  43.54536456  43.35523855  49.03682825\n",
      "  43.16373856  43.74597548  43.45032578  43.16180628  45.73279715\n",
      "  43.46485005  74.537672    51.69969386  44.0207649   44.09595285\n",
      "  43.16348015  51.2413041   43.16352956  43.1980717   47.22283724\n",
      "  43.28521169  44.44899309  43.16210509  43.16252519  44.05901103]\n"
     ]
    }
   ],
   "source": [
    "svr=SVR(kernel=\"poly\")\n",
    "svr.fit(x_train,y_train)\n",
    "svr_pred=svr.predict(x_test)\n",
    "print(svr_pred)"
   ]
  },
  {
   "cell_type": "code",
   "execution_count": 25,
   "id": "96eb9ed3",
   "metadata": {},
   "outputs": [
    {
     "data": {
      "text/plain": [
       "(5.684816600165532, 4.127276568252302)"
      ]
     },
     "execution_count": 25,
     "metadata": {},
     "output_type": "execute_result"
    }
   ],
   "source": [
    "svr.score(x_test,y_test)*100,svr.score(x_train,y_train)*100"
   ]
  },
  {
   "cell_type": "code",
   "execution_count": 26,
   "id": "4b978a2a",
   "metadata": {},
   "outputs": [
    {
     "data": {
      "text/html": [
       "<div>\n",
       "<style scoped>\n",
       "    .dataframe tbody tr th:only-of-type {\n",
       "        vertical-align: middle;\n",
       "    }\n",
       "\n",
       "    .dataframe tbody tr th {\n",
       "        vertical-align: top;\n",
       "    }\n",
       "\n",
       "    .dataframe thead th {\n",
       "        text-align: right;\n",
       "    }\n",
       "</style>\n",
       "<table border=\"1\" class=\"dataframe\">\n",
       "  <thead>\n",
       "    <tr style=\"text-align: right;\">\n",
       "      <th></th>\n",
       "      <th>Actual</th>\n",
       "      <th>Predicted</th>\n",
       "    </tr>\n",
       "  </thead>\n",
       "  <tbody>\n",
       "    <tr>\n",
       "      <th>0</th>\n",
       "      <td>48.598000</td>\n",
       "      <td>43.916889</td>\n",
       "    </tr>\n",
       "    <tr>\n",
       "      <th>1</th>\n",
       "      <td>5.348000</td>\n",
       "      <td>43.166280</td>\n",
       "    </tr>\n",
       "    <tr>\n",
       "      <th>2</th>\n",
       "      <td>68.570000</td>\n",
       "      <td>43.319193</td>\n",
       "    </tr>\n",
       "    <tr>\n",
       "      <th>3</th>\n",
       "      <td>6.430000</td>\n",
       "      <td>43.202073</td>\n",
       "    </tr>\n",
       "    <tr>\n",
       "      <th>4</th>\n",
       "      <td>49.812000</td>\n",
       "      <td>43.336519</td>\n",
       "    </tr>\n",
       "    <tr>\n",
       "      <th>5</th>\n",
       "      <td>50.004002</td>\n",
       "      <td>43.348993</td>\n",
       "    </tr>\n",
       "    <tr>\n",
       "      <th>6</th>\n",
       "      <td>41.400002</td>\n",
       "      <td>43.783013</td>\n",
       "    </tr>\n",
       "    <tr>\n",
       "      <th>7</th>\n",
       "      <td>24.690001</td>\n",
       "      <td>44.233290</td>\n",
       "    </tr>\n",
       "    <tr>\n",
       "      <th>8</th>\n",
       "      <td>49.785999</td>\n",
       "      <td>44.493233</td>\n",
       "    </tr>\n",
       "    <tr>\n",
       "      <th>9</th>\n",
       "      <td>43.472000</td>\n",
       "      <td>43.219237</td>\n",
       "    </tr>\n",
       "  </tbody>\n",
       "</table>\n",
       "</div>"
      ],
      "text/plain": [
       "      Actual  Predicted\n",
       "0  48.598000  43.916889\n",
       "1   5.348000  43.166280\n",
       "2  68.570000  43.319193\n",
       "3   6.430000  43.202073\n",
       "4  49.812000  43.336519\n",
       "5  50.004002  43.348993\n",
       "6  41.400002  43.783013\n",
       "7  24.690001  44.233290\n",
       "8  49.785999  44.493233\n",
       "9  43.472000  43.219237"
      ]
     },
     "execution_count": 26,
     "metadata": {},
     "output_type": "execute_result"
    }
   ],
   "source": [
    "result2=pd.DataFrame({'Actual':y_test.flatten(),'Predicted':svr_pred.flatten()})\n",
    "result2.head(10)"
   ]
  },
  {
   "cell_type": "code",
   "execution_count": 27,
   "id": "ffafe36a",
   "metadata": {},
   "outputs": [
    {
     "data": {
      "image/png": "[encoded data removed]",
      "text/plain": [
       "<Figure size 640x480 with 1 Axes>"
      ]
     },
     "metadata": {},
     "output_type": "display_data"
    }
   ],
   "source": [
    "from mlxtend.plotting import plot_learning_curves\n",
    "# instantiating the model \n",
    "clf = lr\n",
    " \n",
    "# plotting the learning curve\n",
    "plot_learning_curves(X_train=x_train,\n",
    "                     y_train=y_train,\n",
    "                     X_test=x_test,\n",
    "                     y_test=y_test,\n",
    "                     clf=clf,\n",
    "                     scoring=\"misclassification error\",\n",
    "                     suppress_plot=False,\n",
    "                     print_model=True)\n",
    "plt.ylim(top=1.5, bottom=-0.02)\n",
    "plt.xlim(left=0.0, right=100)\n",
    "plt.show()"
   ]
  },
  {
   "cell_type": "code",
   "execution_count": 28,
   "id": "95c2dc2f",
   "metadata": {},
   "outputs": [],
   "source": [
    "from sklearn.metrics import mean_absolute_error,mean_squared_error\n",
    "\n",
    "import math"
   ]
  },
  {
   "cell_type": "code",
   "execution_count": 29,
   "id": "d9f1d298",
   "metadata": {},
   "outputs": [
    {
     "name": "stdout",
     "output_type": "stream",
     "text": [
      "Mean Absolute Error for LinearRegression : 0.49069744079219535\n",
      "Mean Squared Error for LinearRegression : 1.0193561915659104\n",
      "Root Mean Squared Error for LinearRegression : 1.009631710855949\n"
     ]
    }
   ],
   "source": [
    "print('Mean Absolute Error for LinearRegression :', metrics.mean_absolute_error(y_test,lr_pred))\n",
    "print('Mean Squared Error for LinearRegression :', metrics.mean_squared_error(y_test,lr_pred))\n",
    "print('Root Mean Squared Error for LinearRegression :', math.sqrt(metrics.mean_squared_error(y_test,lr_pred)))"
   ]
  },
  {
   "cell_type": "code",
   "execution_count": 30,
   "id": "df6f52d0",
   "metadata": {},
   "outputs": [
    {
     "data": {
      "text/plain": [
       "<AxesSubplot:>"
      ]
     },
     "execution_count": 30,
     "metadata": {},
     "output_type": "execute_result"
    },
    {
     "data": {
      "image/png": "[encoded data removed]",
      "text/plain": [
       "<Figure size 432x288 with 1 Axes>"
      ]
     },
     "metadata": {
      "needs_background": "light"
     },
     "output_type": "display_data"
    }
   ],
   "source": [
    "graph=result.head(50)\n",
    "graph.plot(kind='bar')"
   ]
  },
  {
   "cell_type": "code",
   "execution_count": 31,
   "id": "4c0e8a62",
   "metadata": {},
   "outputs": [
    {
     "data": {
      "text/plain": [
       "<AxesSubplot:ylabel='Frequency'>"
      ]
     },
     "execution_count": 31,
     "metadata": {},
     "output_type": "execute_result"
    },
    {
     "data": {
      "image/png": "[encoded data removed]",
      "text/plain": [
       "<Figure size 432x288 with 1 Axes>"
      ]
     },
     "metadata": {
      "needs_background": "light"
     },
     "output_type": "display_data"
    }
   ],
   "source": [
    "graph.plot(kind='hist')"
   ]
  },
  {
   "cell_type": "code",
   "execution_count": 32,
   "id": "64c5173f",
   "metadata": {},
   "outputs": [
    {
     "name": "stdout",
     "output_type": "stream",
     "text": [
      "         Actual   Predicted\n",
      "438   40.301998   40.621283\n",
      "110   30.488001   30.719780\n",
      "4     49.812000   50.575030\n",
      "408  380.359985  392.067581\n",
      "123   51.375999   50.508223\n",
      "100   50.602001   51.272948\n",
      "616    6.780000    7.046037\n",
      "352    5.298000    5.381967\n",
      "511    5.334000    5.433560\n",
      "233   56.366001   56.418162\n",
      "261   64.328003   63.682376\n",
      "379   39.147999   38.638637\n",
      "640   48.228001   48.079355\n",
      "477  367.127991  362.889743\n",
      "247   48.048000   47.507290\n",
      "287   67.746002   68.281023\n",
      "612   39.063999   39.248559\n",
      "466   10.086000   10.020770\n",
      "50     3.806000    3.957898\n",
      "474   67.589996   68.169623\n",
      "105   45.023998   44.632146\n",
      "461   50.293999   50.435975\n",
      "454    5.870000    6.020154\n",
      "209    5.238000    5.475181\n",
      "415   45.945999   45.570025\n",
      "569    5.278000    5.403662\n",
      "74     6.624000    6.794141\n",
      "627   66.258003   66.139375\n",
      "482   83.844002   83.246282\n",
      "121    6.914000    7.053284\n",
      "98    45.860001   45.573337\n",
      "106   60.771999   61.109666\n",
      "185   42.667999   42.369862\n",
      "269   40.084000   40.278256\n",
      "92     3.950000    4.177447\n",
      "527   66.959999   66.807695\n",
      "595    5.116000    5.333523\n",
      "113   64.045998   63.977997\n",
      "367   62.644001   61.911511\n",
      "307   55.318001   55.827689\n",
      "366    5.416000    5.561384\n",
      "200   34.883999   34.745964\n",
      "41    38.158001   38.251368\n",
      "226    5.626000    5.760935\n",
      "568   45.784000   45.456989\n",
      "543    6.246000    6.432627\n",
      "88    43.911999   43.831727\n",
      "487   63.009998   63.163267\n",
      "294    7.064000    7.289238\n",
      "531   43.042000   42.270880\n"
     ]
    },
    {
     "data": {
      "text/plain": [
       "<AxesSubplot:>"
      ]
     },
     "execution_count": 32,
     "metadata": {},
     "output_type": "execute_result"
    },
    {
     "data": {
      "image/png": "[encoded data removed]",
      "text/plain": [
       "<Figure size 432x288 with 1 Axes>"
      ]
     },
     "metadata": {
      "needs_background": "light"
     },
     "output_type": "display_data"
    }
   ],
   "source": [
    "graph=result.sample(50)\n",
    "print(graph)\n",
    "graph.plot(kind='bar')"
   ]
  },
  {
   "cell_type": "code",
   "execution_count": 33,
   "id": "439cb96c",
   "metadata": {},
   "outputs": [],
   "source": [
    "from sklearn.linear_model import Ridge"
   ]
  },
  {
   "cell_type": "code",
   "execution_count": 34,
   "id": "350d7674",
   "metadata": {},
   "outputs": [
    {
     "data": {
      "text/plain": [
       "array([ 48.28887096,   5.45560429,  67.82138152,   6.67986373,\n",
       "        50.57485389,  50.16188297,  41.8604677 ,  24.43118141,\n",
       "        49.55424925,  43.90043367, 298.82456028,  37.52598298,\n",
       "         7.84701522,  43.74570319,  54.55216573,   4.85129967,\n",
       "        43.06249671,  62.24943723,   6.61304609,  50.87312292,\n",
       "       162.20993984,  54.02989171,  26.90400731,  17.37691437,\n",
       "        67.53475333,  45.30916833,  72.84836616,  49.06608159,\n",
       "       143.29794825,  51.93023631,  50.70450628,  29.53004942,\n",
       "        49.58220536,  47.45655668,  32.78159994, 155.0849888 ,\n",
       "        62.71110168,   4.35130923,  43.69687207,  27.58868673,\n",
       "        58.6985739 ,  38.25152878,  38.98263057,  38.58963274,\n",
       "        23.66735181,  39.00616429,   3.44441261,  40.98205217,\n",
       "         7.99960125,  52.45778426,   3.95786654,   5.73412758,\n",
       "         3.00865743,  42.26423804,  33.17013002,   7.29311458,\n",
       "         7.19978267,  49.53663712, 449.61750077,   8.24480921,\n",
       "       130.85621512,  47.09680488,  70.11813353,  41.82820188,\n",
       "        43.8088921 ,  55.3001832 , 126.86002578,  64.02356123,\n",
       "        48.6597824 ,  67.91689943,   5.12688715,  58.16196265,\n",
       "        39.68176677,  41.2821531 ,   6.79409567,  37.23402956,\n",
       "        34.89928693,   5.67011239,  53.94557264,  45.23810859,\n",
       "         5.58386905,  72.52713595,  54.86844083,  38.41506899,\n",
       "         5.76770586, 201.54276335,  10.48622109,   4.23332074,\n",
       "        43.8317964 ,  39.75542125,  44.99465839,   5.87358883,\n",
       "         4.17739295,   5.01585178,  65.05100177,  68.17401672,\n",
       "        53.3831088 ,   4.81171697,  45.57332288,   6.07904177,\n",
       "        51.27308679,   6.99889862,  46.50665693,  71.37921729,\n",
       "       308.39181509,  44.63209182,  61.10982037,  43.33604251,\n",
       "         5.97779445,   4.91421625,  30.71972118,   5.62296421,\n",
       "        50.0999384 ,  63.97793631,   7.1004385 , 300.5509211 ,\n",
       "        30.22359351,  24.7183406 ,  50.2367374 ,   6.29198002,\n",
       "        46.66052396,   7.05319932,  70.81591077,  50.50851283,\n",
       "        46.29067657,  63.63874426,   5.71356628,  45.90287548,\n",
       "        68.93609578,  34.99272857,  54.34116633,  45.59634958,\n",
       "        46.86704937,  57.3803377 ,  69.36037634,  39.67918052,\n",
       "        52.34192887,  28.90129593,   7.48306575,  45.75004598,\n",
       "        68.36960521,   5.24968913,  10.8774981 ,  39.04220551,\n",
       "        43.77750934,  46.4513089 ,  36.97973645,   6.36938449,\n",
       "        43.46726819,  44.02271662,  51.32220391,  50.20844144,\n",
       "        85.13408493,  66.02734446,  44.11358264,  65.69189036,\n",
       "        61.19936446,  53.6512494 ,  35.72193262,  37.90909515,\n",
       "        50.53663075,  51.63536056,  61.53052468,   6.53495817,\n",
       "         4.26183057,   5.5626181 ,  53.19818463,  35.81221384,\n",
       "        59.70636778,   5.86979032,  48.75621719,  32.92563877,\n",
       "        69.87647872,   7.17477541,  24.21650913,  94.86307065,\n",
       "         4.97931735,  44.02964645,   5.01174835,  37.95621874,\n",
       "        41.7374181 ,   5.69711213,  73.54241288,   6.21428786,\n",
       "        62.71463334,  42.36977859,  11.21870719,  46.75605753,\n",
       "        55.44927599,  40.32178186,   6.47121982,   5.1375698 ,\n",
       "         6.10729671,   5.99324874,  67.61021791, 156.87425679,\n",
       "        29.77505606,  67.92151082,  41.20043   ,  49.74942933,\n",
       "        34.74606034,  76.13069464,  42.30439987,  39.39615644,\n",
       "        42.13951326,  25.33948774,  20.4328218 ,  60.93637276,\n",
       "        42.35239298,   5.47511619,  45.12039537,  33.57671662,\n",
       "        46.39418303,  42.40757802,  38.66252672,  24.10939496,\n",
       "        30.64286086,  44.38532612,  45.43304169,   6.04790712,\n",
       "        37.48474486,   6.60356894,   7.67612229,  96.89857886,\n",
       "        45.45028956,   4.30043285,   5.76088023,  61.82670737,\n",
       "       300.19974619, 274.79495734,  50.88692939,   6.90654546,\n",
       "         6.78559715,  56.41845424,   6.04849275,  59.88454749,\n",
       "         5.84322427,  36.35341283, 148.95073603,  71.84093529,\n",
       "        56.03123751,  35.89144709,  46.17719464,   7.31457818,\n",
       "        71.20351056,  64.3407724 ,  49.58107422,  47.50742485,\n",
       "        44.39190665,  56.55155373,   6.1943583 ,  58.85843704,\n",
       "        42.42196935,  42.34562551,  33.8084335 ,  40.52119266,\n",
       "        44.98569118,   6.77614129,   4.92176636,  50.03245006,\n",
       "         4.76554808,  63.68246758,  24.69141955,  45.56190149,\n",
       "        58.24323686,  50.00854055,   6.19498351,  40.98756927,\n",
       "        32.59724023,  40.27813715,  48.21561853,  37.73692781,\n",
       "        44.25193194,  43.94649025,   6.36988059,   5.52513397,\n",
       "         5.42049441,   7.12811957,   4.20231942,  42.36094984,\n",
       "         6.94758568,  54.36535708,  40.98988416,  54.42222943,\n",
       "        66.14769468,  68.98316016,   6.70767802,  68.28083462,\n",
       "        51.00640437,  47.80838809,   4.33516079,   6.30051531,\n",
       "        57.67724795,  24.26631275,   7.289174  ,  59.6118532 ,\n",
       "         6.65721713,  65.90162111,  47.3325983 ,  53.15385664,\n",
       "        49.11035972,  40.66242168,  38.61401827,  64.10608389,\n",
       "        47.31227545, 161.09680129,  96.86704137,  55.82770297,\n",
       "        18.75642232,  50.01189041,   5.10557712,  27.26010754,\n",
       "        40.9914241 ,  44.22019029, 111.9089332 ,  50.23156368,\n",
       "         6.09156779,  55.47802193,   6.94609904,   5.67317143,\n",
       "         4.3530998 ,  51.00836046,  42.87958288,  56.03285784,\n",
       "        44.88636869,   7.13677809,  61.92090968,   6.50082726,\n",
       "        65.64886948,   5.63532362,  63.47355085, 174.50910258,\n",
       "        52.86291101,  39.5259903 ,   5.69754587,  48.79100344,\n",
       "         6.97220682,   6.32301986,   6.68342856,  73.18413863,\n",
       "         6.44812706,  40.89468368,   8.89592712,  49.7187941 ,\n",
       "         5.9783574 ,   5.96507438,  37.87181191,   5.78398464,\n",
       "         5.53917632,  49.76928653,  31.2915521 ,  52.24135746,\n",
       "         5.3819415 ,  62.49202214,   7.5204795 ,  55.56507976,\n",
       "         6.18461717,   5.98922733,  46.95470136,   6.7395683 ,\n",
       "        44.74402512,  69.81526282,   6.87775484,   7.96322551,\n",
       "        36.61252694,   5.65303618,   5.56133642,  61.9116571 ,\n",
       "        66.72014722,  44.44012886,  48.80918469,  68.34891732,\n",
       "        44.08943669,  47.32064585,  42.00377939,  59.18689882,\n",
       "         6.80133684,  51.6793022 ,  51.21750792,  38.6384848 ,\n",
       "        46.2065731 ,  53.91648325,  39.31453021, 162.84351724,\n",
       "        64.36377073,   5.92017477,  45.48755525,  38.93935963,\n",
       "        61.3424439 ,  59.01394277,  67.76103794,   8.9806105 ,\n",
       "        69.8330781 ,   6.99801802,  44.55520483,  51.89830515,\n",
       "        65.99627719, 163.36752572,   5.08711338, 427.79266002,\n",
       "        49.71234045,  39.50325285,  62.50680462,  37.61095923,\n",
       "        69.73434629, 114.14620264, 134.10145118, 155.00131297,\n",
       "       392.06890523,   6.67857577,  58.04227649,  43.16657232,\n",
       "         5.72445816,  46.40261037,  71.76388706,  45.57008225,\n",
       "       199.72501644,  50.60669723,  39.39419729,  62.00817575,\n",
       "        67.54839423,  52.75605399,   6.11454592,  35.3583411 ,\n",
       "        42.00416626, 113.20753838,  40.28002345,   9.13503318,\n",
       "        49.40886438,  67.3925294 ,  57.04403422,  43.50766037,\n",
       "        52.4019982 ,   5.65899425,  39.13971123,  40.25610289,\n",
       "        27.50894006,  36.40231346,  40.62124321,   6.33146892,\n",
       "        56.53956434,  62.41220945,  20.40038799,  46.45653752,\n",
       "         6.96788573,  44.38880842,   6.01640774,  66.18454894,\n",
       "        41.30026846,  41.47097233,  44.85220335,  63.68684608,\n",
       "         7.32548829,   7.72837963,   6.02008884,   7.6124959 ,\n",
       "        45.93299371,  40.1956914 ,   5.54141143,  43.11162347,\n",
       "         5.09277278,  50.43601045,  44.67136147,   5.84845117,\n",
       "        62.42364232,  41.72905928,  10.02076861,  40.47206738,\n",
       "        62.93613523,  57.22602667,  66.84406715,   6.3969631 ,\n",
       "        62.66615292,   5.71193527,  68.16950906,  69.00439615,\n",
       "        63.77752974, 362.88597847,  44.94060469,  52.43384079,\n",
       "       105.57826127,  58.18876856,  83.24623494,  23.27368719,\n",
       "        39.61957928,  39.93384117,  69.09260678,  63.16354254,\n",
       "         4.51036616,  49.25208807,   6.20158437,  46.90969614,\n",
       "        47.41333022,  46.46315233,   5.47236893,   7.883086  ,\n",
       "         5.26443897,   5.68713406,   5.89683435,  68.6885424 ,\n",
       "        61.12227038,  70.44095065,   4.59953821,   6.05864539,\n",
       "         6.07254719, 322.32537075,  45.47758102,  59.98824064,\n",
       "        41.14374302,   4.27735516,  67.23705167,   5.43352069,\n",
       "         6.98659884,   7.7727126 ,   5.85181086,  74.09537746,\n",
       "       453.38622277,   5.76429154, 270.33119211,  76.57034615,\n",
       "        45.26471413,  46.62465053,  45.13838483, 101.56396165,\n",
       "        50.17937265,   6.76557056,  32.95297784,  66.80768975,\n",
       "        38.92606717,  51.56284585,  38.76799067,  42.2709365 ,\n",
       "         6.58330354,   5.64530024,   5.90545823,  41.43505938,\n",
       "        32.39250212,  50.91085084,  89.42599472,  57.03767613,\n",
       "        65.68776471,  49.75909738,  63.2759338 ,   6.43256864,\n",
       "         5.81047473,  69.58240987,  63.3857604 ,  61.47662942,\n",
       "       187.04322584, 386.07078074,  66.12368276,  70.93114438,\n",
       "        67.93368368,  45.98569498,   7.78961343,   5.86563553,\n",
       "         5.90993512,  69.6438236 ,  70.96983955,  59.85885405,\n",
       "        45.64727992,  43.30349779,  39.03047956,  40.5634937 ,\n",
       "        65.18533857,  28.41702257,  69.37374348,   7.72344181,\n",
       "        45.4568585 ,   5.40362791,  37.49896357,   3.68470986,\n",
       "         5.94589281,   5.82717883,  40.40449197,  44.85979234,\n",
       "         9.89780475,   5.02965724,  41.90034317,   4.98748333,\n",
       "        49.78980873,  39.32832028,   7.61132697,  25.54915859,\n",
       "        45.58180379,  18.87002431,  41.29667934,  92.67811281,\n",
       "         6.41475455,   7.67183767,  17.47671103,  59.37764057,\n",
       "        67.84033096, 327.67779069,  49.45820705,   5.33347089,\n",
       "         4.74147857,   7.63851692,  42.04704751, 152.06986921,\n",
       "        67.19746801,  44.31663545,  37.70572027,   5.76716221,\n",
       "         4.44302693,  33.18641802,  60.45123215,  37.70463829,\n",
       "        72.78110852,  40.08109706,  50.4536629 ,  46.09081774,\n",
       "        39.24856594,  45.95723153,   7.90098122,  33.22417781,\n",
       "         7.0459746 ,  50.43324674,  40.48403318,  58.32586965,\n",
       "         6.99799591,   6.30114603,  53.93903119,  37.17692525,\n",
       "        52.18167292,   6.4532727 ,  45.49607161,  66.13943723,\n",
       "         4.26896846,   5.31252067,  52.26892443, 102.80217817,\n",
       "        70.16863556,  68.35436643,   4.39242904,   5.5757175 ,\n",
       "        66.15058551,   5.69783614,  49.79639475, 403.96119375,\n",
       "        48.07931231,  47.16544508,   4.79554273,   5.57403689,\n",
       "        48.00213204])"
      ]
     },
     "execution_count": 34,
     "metadata": {},
     "output_type": "execute_result"
    }
   ],
   "source": [
    "clf=Ridge()\n",
    "clf.fit(x_train,y_train)\n",
    "clf_pred=clf.predict(x_test)\n",
    "clf_pred"
   ]
  },
  {
   "cell_type": "code",
   "execution_count": 35,
   "id": "b5d517e8",
   "metadata": {},
   "outputs": [
    {
     "data": {
      "text/plain": [
       "(99.92895835127862, 99.96837680410903)"
      ]
     },
     "execution_count": 35,
     "metadata": {},
     "output_type": "execute_result"
    }
   ],
   "source": [
    "clf_score=clf.score(x_train,y_train)*100,clf.score(x_test,y_test)*100\n",
    "clf_score"
   ]
  },
  {
   "cell_type": "code",
   "execution_count": 36,
   "id": "4104da20",
   "metadata": {},
   "outputs": [
    {
     "name": "stdout",
     "output_type": "stream",
     "text": [
      "Mean Absolute Error for RidgeRegression : 0.49070941029680365\n",
      "Mean Squared Error for RidgeRegression : 1.0194683133226976\n",
      "Root Mean Squared Error for RidgeRegression : 1.009687235396535\n"
     ]
    }
   ],
   "source": [
    "print('Mean Absolute Error for RidgeRegression :', metrics.mean_absolute_error(y_test,clf_pred))\n",
    "print('Mean Squared Error for RidgeRegression :', metrics.mean_squared_error(y_test,clf_pred))\n",
    "print('Root Mean Squared Error for RidgeRegression :', math.sqrt(metrics.mean_squared_error(y_test,clf_pred)))"
   ]
  },
  {
   "cell_type": "code",
   "execution_count": 37,
   "id": "15b2fda5",
   "metadata": {},
   "outputs": [
    {
     "name": "stdout",
     "output_type": "stream",
     "text": [
      "(99.9289583548221, 99.9683802820477) \n",
      " (99.92895835127862, 99.96837680410903)\n"
     ]
    }
   ],
   "source": [
    "print(lr_score,'\\n',clf_score)"
   ]
  },
  {
   "cell_type": "code",
   "execution_count": null,
   "id": "51a448a1",
   "metadata": {},
   "outputs": [],
   "source": []
  }
 ],
 "metadata": {
  "gist": {
   "data": {
    "description": "Downloads/online projects/Stock _Price_Prediction.ipynb",
    "public": true
   },
   "id": ""
  },
  "kernelspec": {
   "display_name": "Python 3 (ipykernel)",
   "language": "python",
   "name": "python3"
  },
  "language_info": {
   "codemirror_mode": {
    "name": "ipython",
    "version": 3
   },
   "file_extension": ".py",
   "mimetype": "text/x-python",
   "name": "python",
   "nbconvert_exporter": "python",
   "pygments_lexer": "ipython3",
   "version": "3.9.12"
  }
 },
 "nbformat": 4,
 "nbformat_minor": 5
}
